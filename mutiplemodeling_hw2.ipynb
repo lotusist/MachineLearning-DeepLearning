{
  "nbformat": 4,
  "nbformat_minor": 0,
  "metadata": {
    "colab": {
      "name": "mutiplemodeling_hw2.ipynb",
      "provenance": [],
      "collapsed_sections": [],
      "mount_file_id": "1O9ZAxbpk8gSZOkAwZ_nW0Y8gebE--EJ_",
      "authorship_tag": "ABX9TyMnxpTA3wEFiu7H8VPOj/0l"
    },
    "kernelspec": {
      "name": "python3",
      "display_name": "Python 3"
    },
    "language_info": {
      "name": "python"
    },
    "accelerator": "GPU"
  },
  "cells": [
    {
      "cell_type": "markdown",
      "source": [
        "# MLDL1 2022 Spring\n",
        "## Assignment 2"
      ],
      "metadata": {
        "id": "5vC97nyuYp8u"
      }
    },
    {
      "cell_type": "markdown",
      "source": [
        "# 0. Import Libraries & Datasets"
      ],
      "metadata": {
        "id": "VcQWgATIYtb2"
      }
    },
    {
      "cell_type": "code",
      "execution_count": null,
      "metadata": {
        "id": "YgDrB4YGYdGW"
      },
      "outputs": [],
      "source": [
        "import numpy as np\n",
        "import pandas as pd\n",
        "import warnings\n",
        "warnings.filterwarnings(action='ignore')\n",
        "from sklearn.linear_model import LogisticRegression\n",
        "from sklearn.neighbors import KNeighborsClassifier\n",
        "from sklearn.ensemble import RandomForestClassifier\n",
        "from sklearn.svm import SVC\n",
        "from sklearn import metrics\n",
        "from sklearn.model_selection import cross_val_score, GridSearchCV\n",
        "from sklearn.decomposition import PCA"
      ]
    },
    {
      "cell_type": "code",
      "source": [
        "_path = '/content/drive/MyDrive/'\n",
        "data_list = ['OnlineAd_X_train','OnlineAd_Y_train','OnlineAd_X_test']"
      ],
      "metadata": {
        "id": "nkZBao5UY10e"
      },
      "execution_count": null,
      "outputs": []
    },
    {
      "cell_type": "code",
      "source": [
        "X_train_original = pd.read_csv(_path + '/' + data_list[0] + '.csv', low_memory = False, header=None)\n",
        "y_train_original = pd.read_csv(_path + '/' + data_list[1] + '.csv', low_memory = False, header=None)"
      ],
      "metadata": {
        "id": "pMoF1BEUZSj_"
      },
      "execution_count": null,
      "outputs": []
    },
    {
      "cell_type": "code",
      "source": [
        "# OnlineAD_X_train.csv\n",
        "X_train_original.info()"
      ],
      "metadata": {
        "colab": {
          "base_uri": "https://localhost:8080/"
        },
        "id": "w1eBu6CgZmRK",
        "outputId": "849b2d86-c220-4c53-e5b5-075f0a4e6c90"
      },
      "execution_count": null,
      "outputs": [
        {
          "output_type": "stream",
          "name": "stdout",
          "text": [
            "<class 'pandas.core.frame.DataFrame'>\n",
            "RangeIndex: 1452 entries, 0 to 1451\n",
            "Columns: 251 entries, 0 to 250\n",
            "dtypes: float64(251)\n",
            "memory usage: 2.8 MB\n"
          ]
        }
      ]
    },
    {
      "cell_type": "code",
      "source": [
        "# Check null values in X_train.csv\n",
        "check_null = 0\n",
        "for i in range(251):\n",
        "  _null = X_train_original[i].isnull().sum()\n",
        "  if _null != 0:\n",
        "    print(i)\n",
        "    check_null += _null\n",
        "  else:\n",
        "    check_null += _null\n",
        "print(check_null)"
      ],
      "metadata": {
        "colab": {
          "base_uri": "https://localhost:8080/"
        },
        "id": "R3BQkNXyZr_j",
        "outputId": "e2313bb5-8ccd-46ca-ad66-fbeb861d6f84"
      },
      "execution_count": null,
      "outputs": [
        {
          "output_type": "stream",
          "name": "stdout",
          "text": [
            "0\n"
          ]
        }
      ]
    },
    {
      "cell_type": "code",
      "source": [
        "# OnlineAd_Y_train.csv\n",
        "y_train_original.info()"
      ],
      "metadata": {
        "colab": {
          "base_uri": "https://localhost:8080/"
        },
        "id": "F_1EFOahpTem",
        "outputId": "d48d114d-aac5-435d-ef62-d03efa98b863"
      },
      "execution_count": null,
      "outputs": [
        {
          "output_type": "stream",
          "name": "stdout",
          "text": [
            "<class 'pandas.core.frame.DataFrame'>\n",
            "RangeIndex: 1452 entries, 0 to 1451\n",
            "Data columns (total 3 columns):\n",
            " #   Column  Non-Null Count  Dtype  \n",
            "---  ------  --------------  -----  \n",
            " 0   0       1452 non-null   float64\n",
            " 1   1       1452 non-null   float64\n",
            " 2   2       1452 non-null   float64\n",
            "dtypes: float64(3)\n",
            "memory usage: 34.2 KB\n"
          ]
        }
      ]
    },
    {
      "cell_type": "code",
      "source": [
        "y_train_original.value_counts()"
      ],
      "metadata": {
        "colab": {
          "base_uri": "https://localhost:8080/"
        },
        "id": "7U8a8P1A1d_5",
        "outputId": "3c1d7a0b-0eaf-4a1d-d24a-5d02774e0057"
      },
      "execution_count": null,
      "outputs": [
        {
          "output_type": "execute_result",
          "data": {
            "text/plain": [
              "0    1    2  \n",
              "1.0  0.0  0.0    822\n",
              "0.0  0.0  1.0    353\n",
              "     1.0  0.0    277\n",
              "dtype: int64"
            ]
          },
          "metadata": {},
          "execution_count": 7
        }
      ]
    },
    {
      "cell_type": "code",
      "source": [
        "# Check the number and the ratio of each label\n",
        "print(\"# of 'No Click':\", int(y_train_original[:][0].sum()), \"\\n% of 'No Click':\",round(round(int(y_train_original[:][0].sum())/len(y_train_original), 2)*100, 2), \"%\")\n",
        "print(\" \")\n",
        "print(\"# of 'A':\", int(y_train_original[:][1].sum()), \"\\n% of 'A':\",round(int(y_train_original[:][1].sum())/len(y_train_original), 2)*100, \"%\")\n",
        "print(\" \")\n",
        "print(\"# of 'B':\", int(y_train_original[:][2].sum()), \"\\n% of 'B':\",round(int(y_train_original[:][2].sum())/len(y_train_original), 2)*100, \"%\")"
      ],
      "metadata": {
        "colab": {
          "base_uri": "https://localhost:8080/"
        },
        "id": "Y9m5_EpZ2D0A",
        "outputId": "5c59fe6a-522e-4bdc-ac72-2af3c8c33a17"
      },
      "execution_count": null,
      "outputs": [
        {
          "output_type": "stream",
          "name": "stdout",
          "text": [
            "# of 'No Click': 822 \n",
            "% of 'No Click': 57.0 %\n",
            " \n",
            "# of 'A': 277 \n",
            "% of 'A': 19.0 %\n",
            " \n",
            "# of 'B': 353 \n",
            "% of 'B': 24.0 %\n"
          ]
        }
      ]
    },
    {
      "cell_type": "code",
      "source": [
        "# transform Y_train into 1 column \n",
        "y_train_ = pd.DataFrame(np.zeros(len(y_train_original)))\n",
        "for i in range(len(y_train_original)):\n",
        "  if y_train_original.iloc[i,1] == 1:\n",
        "    y_train_.iloc[i] = 1\n",
        "  if y_train_original.iloc[i,2] == 1:\n",
        "    y_train_.iloc[i] = 2\n",
        "  if y_train_original.iloc[i,0] == 1:\n",
        "    y_train_.iloc[i] = 0"
      ],
      "metadata": {
        "id": "CPxuvrRUS0ME"
      },
      "execution_count": null,
      "outputs": []
    },
    {
      "cell_type": "code",
      "source": [
        "# Check whether the number of each label is the same as the original y_train\n",
        "y_train_.value_counts(ascending=True)"
      ],
      "metadata": {
        "colab": {
          "base_uri": "https://localhost:8080/"
        },
        "id": "iLRgQ19wXCvN",
        "outputId": "5c2f712a-a99c-4f8c-e4a3-57849a8e3bc4"
      },
      "execution_count": null,
      "outputs": [
        {
          "output_type": "execute_result",
          "data": {
            "text/plain": [
              "1.0    277\n",
              "2.0    353\n",
              "0.0    822\n",
              "dtype: int64"
            ]
          },
          "metadata": {},
          "execution_count": 10
        }
      ]
    },
    {
      "cell_type": "markdown",
      "source": [
        "# 1. Training baseline models\n",
        " - (a) Train multiple models and report training result. \n",
        "  - Because of the imbalance of the ratio of each label, f1 score is a proper metric to evaluate the performance, which combines both recall and precision. \n",
        "    - Particularly, weighted-averaged f1 score is the average of each label considering the proportion for each label in the dataset.\n",
        "  - Firstly, 4 baseline Models were constructed without any tuned hyperparameter and evaluated their performances.\n",
        "  - With some options for the hyperparameters of each model, grid search cross-validation was conducted respectively to find the best parameter option. (The details are below)\n",
        "  - Each model with the best parameter option was checked whether the cross-validation score of each optimized model had been improved. (f1 score)\n",
        "    - Logistic regression: .547 -> .549\n",
        "    - KNN: .563 ->.571\n",
        "    - Random Forest: .580 -> .605\n",
        "    - SVM: .564 -> .577 \n",
        "  - After the hyperparameter tuning process, the performance of **the model based on Random Forest Algorithm** was highly improved, and showed the best f1 score among the 4 tuned models. \n"
      ],
      "metadata": {
        "id": "2uxd5hqFzZ6r"
      }
    },
    {
      "cell_type": "code",
      "source": [
        "# Baseline model 1: Logistic Regression\n",
        "\n",
        "model_logit_ = LogisticRegression(multi_class='ovr')\n",
        "score_logit = cross_val_score(model_logit_, X_train_original, y_train_, scoring='f1_weighted', cv=5)\n",
        "score_logit_ = round(sum(score_logit)/len(score_logit),3)\n",
        "print(score_logit_)"
      ],
      "metadata": {
        "colab": {
          "base_uri": "https://localhost:8080/"
        },
        "id": "ndE57E-of0bx",
        "outputId": "c0b88e7f-a782-4b59-ccc7-02aee99f55c4"
      },
      "execution_count": null,
      "outputs": [
        {
          "output_type": "stream",
          "name": "stdout",
          "text": [
            "0.547\n"
          ]
        }
      ]
    },
    {
      "cell_type": "code",
      "source": [
        "# Logistic Regression Model optimization\n",
        "param_grid = [\n",
        "    {'C': [0.5, 5, 10]}\n",
        "]\n",
        "\n",
        "optimal_params = GridSearchCV(\n",
        "                    model_logit_,  \n",
        "                    param_grid = param_grid, \n",
        "                    cv=5,\n",
        "                    n_jobs =-1,     \n",
        "                    scoring = 'f1_weighted') \n",
        "\n",
        "optimal_params.fit(X_train_original, y_train_)\n",
        "print(\"The optimal parameters:\", optimal_params.best_params_)\n",
        "print(\"The best score:\", round(optimal_params.best_score_,3))\n",
        "es_logit = optimal_params.best_estimator_ \n",
        "print(es_logit) "
      ],
      "metadata": {
        "colab": {
          "base_uri": "https://localhost:8080/"
        },
        "id": "enYmlmF-ogW9",
        "outputId": "0591d733-ab89-4ee9-f150-ceedf7ec52cd"
      },
      "execution_count": null,
      "outputs": [
        {
          "output_type": "stream",
          "name": "stdout",
          "text": [
            "The optimal parameters: {'C': 0.5}\n",
            "The best score: 0.549\n",
            "LogisticRegression(C=0.5, multi_class='ovr')\n"
          ]
        }
      ]
    },
    {
      "cell_type": "code",
      "source": [
        "# Baseline model 2: K Nearest Neighbor Classifier (KNN)\n",
        "\n",
        "model_knn_ = KNeighborsClassifier()\n",
        "score_knn = cross_val_score(model_knn_, X_train_original, y_train_, scoring='f1_weighted', cv=5) \n",
        "score_knn_ = round(sum(score_knn)/len(score_knn),3)\n",
        "print(score_knn_)"
      ],
      "metadata": {
        "id": "jCgm1kCofe_s",
        "colab": {
          "base_uri": "https://localhost:8080/"
        },
        "outputId": "770df751-76cf-4b9d-f896-5023eecda0bb"
      },
      "execution_count": null,
      "outputs": [
        {
          "output_type": "stream",
          "name": "stdout",
          "text": [
            "0.563\n"
          ]
        }
      ]
    },
    {
      "cell_type": "code",
      "source": [
        "# KNN Model optimization\n",
        "param_grid = [\n",
        "    {'n_neighbors': [3, 11, 55]}\n",
        "]\n",
        "\n",
        "optimal_params = GridSearchCV(\n",
        "                    model_knn_,  \n",
        "                    param_grid = param_grid, \n",
        "                    cv=5,\n",
        "                    n_jobs=-1,     \n",
        "                    scoring = 'f1_weighted') \n",
        "\n",
        "optimal_params.fit(X_train_original, y_train_)\n",
        "print(\"The optimal parameters:\", optimal_params.best_params_)\n",
        "print(\"The best score:\", round(optimal_params.best_score_,3))\n",
        "es_knn = optimal_params.best_estimator_ \n",
        "print(es_knn) "
      ],
      "metadata": {
        "colab": {
          "base_uri": "https://localhost:8080/"
        },
        "id": "Rfd_WHdarx4z",
        "outputId": "5f459cea-2389-4bc0-9438-90578d21b3fd"
      },
      "execution_count": null,
      "outputs": [
        {
          "output_type": "stream",
          "name": "stdout",
          "text": [
            "The optimal parameters: {'n_neighbors': 11}\n",
            "The best score: 0.571\n",
            "KNeighborsClassifier(n_neighbors=11)\n"
          ]
        }
      ]
    },
    {
      "cell_type": "code",
      "source": [
        "# Baseline model 3: Random Forest\n",
        "\n",
        "model_rf_ = RandomForestClassifier(random_state=25212)\n",
        "score_rf = cross_val_score(model_rf_, X_train_original, y_train_, scoring='f1_weighted', cv=5)\n",
        "score_rf_ = round(sum(score_rf)/len(score_rf),3)\n",
        "print(score_rf_)"
      ],
      "metadata": {
        "colab": {
          "base_uri": "https://localhost:8080/"
        },
        "id": "vkwX7PceWyqG",
        "outputId": "5916c1da-17d4-4f99-b3a7-c4d11612aa40"
      },
      "execution_count": null,
      "outputs": [
        {
          "output_type": "stream",
          "name": "stdout",
          "text": [
            "0.58\n"
          ]
        }
      ]
    },
    {
      "cell_type": "code",
      "source": [
        "# Random Forest Model optimization\n",
        "param_grid = [\n",
        "    {'n_estimators': [20, 150],\n",
        "     'min_samples_split': [8, 16],\n",
        "     'min_samples_leaf': [8, 12],\n",
        "     'max_depth':[4, 8]}\n",
        "]\n",
        "\n",
        "optimal_params = GridSearchCV(\n",
        "                    model_rf_,  \n",
        "                    param_grid = param_grid, \n",
        "                    cv=5,\n",
        "                    n_jobs=-1,     \n",
        "                    scoring = 'f1_weighted') \n",
        "\n",
        "optimal_params.fit(X_train_original, y_train_)\n",
        "print(\"The optimal parameters:\", optimal_params.best_params_)\n",
        "print(\"The best score:\", round(optimal_params.best_score_,3))\n",
        "es_rf = optimal_params.best_estimator_ \n",
        "print(es_rf) "
      ],
      "metadata": {
        "colab": {
          "base_uri": "https://localhost:8080/"
        },
        "id": "1Q4d3IGHtdff",
        "outputId": "eba86f45-316b-4000-e9e6-4bfc35332fe4"
      },
      "execution_count": null,
      "outputs": [
        {
          "output_type": "stream",
          "name": "stdout",
          "text": [
            "The optimal parameters: {'max_depth': 8, 'min_samples_leaf': 12, 'min_samples_split': 8, 'n_estimators': 20}\n",
            "The best score: 0.605\n",
            "RandomForestClassifier(max_depth=8, min_samples_leaf=12, min_samples_split=8,\n",
            "                       n_estimators=20, random_state=25212)\n"
          ]
        }
      ]
    },
    {
      "cell_type": "code",
      "source": [
        "# Baseline model 4: Support Vector Machine with RBF kernel (SVM)\n",
        "\n",
        "model_svm_ = SVC(kernel='rbf')\n",
        "score_svm = cross_val_score(model_svm_, X_train_original, y_train_, scoring='f1_weighted', cv=5)\n",
        "score_svm_=round(sum(score_svm)/len(score_svm),3)\n",
        "print(score_svm_)"
      ],
      "metadata": {
        "colab": {
          "base_uri": "https://localhost:8080/"
        },
        "id": "LRA6klEvkq-c",
        "outputId": "388a726f-c07d-418e-8967-5881049ef10c"
      },
      "execution_count": null,
      "outputs": [
        {
          "output_type": "stream",
          "name": "stdout",
          "text": [
            "0.564\n"
          ]
        }
      ]
    },
    {
      "cell_type": "code",
      "source": [
        "# SVM Model optimization\n",
        "param_grid = [\n",
        "    {'C': [1, 10, 100],\n",
        "    'gamma': [1, 0,1, 0.01]}\n",
        "]\n",
        "\n",
        "optimal_params = GridSearchCV(\n",
        "                    model_svm_,  \n",
        "                    param_grid = param_grid, \n",
        "                    cv=5,\n",
        "                    n_jobs=-1,     \n",
        "                    scoring = 'f1_weighted') \n",
        "\n",
        "optimal_params.fit(X_train_original, y_train_)\n",
        "print(\"The optimal parameters:\", optimal_params.best_params_)\n",
        "print(\"The best score:\", round(optimal_params.best_score_,3))\n",
        "es_svm = optimal_params.best_estimator_ \n",
        "print(es_svm) "
      ],
      "metadata": {
        "colab": {
          "base_uri": "https://localhost:8080/"
        },
        "id": "S56Sjirawtxa",
        "outputId": "2dd6cbe1-63bf-4904-f554-613b0ec18413"
      },
      "execution_count": null,
      "outputs": [
        {
          "output_type": "stream",
          "name": "stdout",
          "text": [
            "The optimal parameters: {'C': 10, 'gamma': 0.01}\n",
            "The best score: 0.577\n",
            "SVC(C=10, gamma=0.01)\n"
          ]
        }
      ]
    },
    {
      "cell_type": "markdown",
      "source": [
        " - (b) Decide whether dimension reduction (or feature selection) is needed.\n",
        "  - Dimension reduction with PCA\n",
        "    - Scree Plot from PCA(Principle Component Analysis) shows how many principle components can explain the total variance in the whole dataset. \n",
        "    - If several principle components(PCs) accounts for the most of variance, dimension reduction would be effective way to improve the base models in 1.(a).\n",
        "    - The Explained Variance Ratio of the first 3 PCs, however, only accounted for 47.6% of the total variance. Even the firt 10 PCs only explained 51.4%, **which means the dimension reduction was not that effective on this task.** (The details are below)\n",
        "    - The performance of the best model chosen in 1.(a) with 10 PCs got worse. (.605 -> .590)\n",
        "    - After the hyperparameter tuning process, the performance was not improved.\n",
        "\n",
        "  - Feature Selection with Feature importance \n",
        "    - Since **the high dimensional dataset is still not desirable,** feature selection based on feature importances can be an alternative. \n",
        "    - The most important 10 features were selected by the best model in 1. (a).\n",
        "    - The f1 score of the model with selected features, however, also got worse. (.605 -> .590)\n",
        "    - After tuning the hyperparameters, the performance was slightly improved, but did not outperformed the model with complete features. (.594 < .605)\n",
        "    - **There may be the best subset of the features which works better than the model with the full-featured training dataset. However, the subset couldn't be figured out by the two methods above.**"
      ],
      "metadata": {
        "id": "pFpkIHcg2Va6"
      }
    },
    {
      "cell_type": "code",
      "source": [
        "# Conduct PCA on X_train\n",
        "pca = PCA(n_components=10)\n",
        "pca_fit = pca.fit(X_train_original)"
      ],
      "metadata": {
        "id": "WrJZeGGWX4q_"
      },
      "execution_count": null,
      "outputs": []
    },
    {
      "cell_type": "code",
      "source": [
        "# Plot the scree plot\n",
        "import matplotlib.pyplot as plt\n",
        "import numpy as np\n",
        "\n",
        "PC_values = np.arange(pca.n_components_) + 1\n",
        "plt.plot(PC_values, pca.explained_variance_ratio_, 'o-', linewidth=2, color='blue')\n",
        "plt.title('Scree Plot')\n",
        "plt.xlabel('# of Principal Components')\n",
        "plt.ylabel('Ratio of Variance Explained')\n",
        "plt.show()"
      ],
      "metadata": {
        "colab": {
          "base_uri": "https://localhost:8080/",
          "height": 295
        },
        "id": "uCYm6-p3-p58",
        "outputId": "bdd4c355-d2d3-47c7-c7aa-4af966bfb747"
      },
      "execution_count": null,
      "outputs": [
        {
          "output_type": "display_data",
          "data": {
            "text/plain": [
              "<Figure size 432x288 with 1 Axes>"
            ],
            "image/png": "[encoded data removed]"
          },
          "metadata": {
            "needs_background": "light"
          }
        }
      ]
    },
    {
      "cell_type": "markdown",
      "source": [
        "- The first 3 principal components explains 47.6% of the total variance. \n",
        "  - The first principal component explains 33.1% of the total variation in the dataset.\n",
        "  - The second principal component explains 13.9% of the total variation.\n",
        "  - The third principal component explains 6.1% of the total variation.\n",
        "  - The other principal ccmponents only explains only less than 6% of the total variantion."
      ],
      "metadata": {
        "id": "YSS7hg9X_OzF"
      }
    },
    {
      "cell_type": "code",
      "source": [
        "# Calculate explained variance ratio of the PCs\n",
        "evr_list = pca.explained_variance_ratio_\n",
        "print(evr_list)\n",
        "print(\" \")\n",
        "print(\"EVR of the first 3 PCs:\", round(round(sum(evr_list[0:3]),3)*100,2),\"%\")\n",
        "print(\"EVR of the first 10 PCs:\", round(round(sum(evr_list[0:100]),3)*100,2),\"%\")"
      ],
      "metadata": {
        "colab": {
          "base_uri": "https://localhost:8080/"
        },
        "id": "aof8f3RE-7qt",
        "outputId": "b4644746-daa7-40f0-83af-00883e32105a"
      },
      "execution_count": null,
      "outputs": [
        {
          "output_type": "stream",
          "name": "stdout",
          "text": [
            "[0.3311108  0.13866552 0.00607905 0.00594526 0.00578738 0.00562698\n",
            " 0.00534612 0.00524957 0.00516952 0.00490565]\n",
            " \n",
            "EVR of the first 3 PCs: 47.6 %\n",
            "EVR of the first 10 PCs: 51.4 %\n"
          ]
        }
      ]
    },
    {
      "cell_type": "code",
      "source": [
        "# Check whether reduced dimension improves the performance\n",
        "X_train_reduced = pca.fit_transform(X_train_original)\n",
        "\n",
        "model_rf_best = RandomForestClassifier(max_depth=8, min_samples_leaf=12, min_samples_split=8,\n",
        "                       n_estimators=20, random_state=25212)\n",
        "score_rf_Xreduced = cross_val_score(model_rf_best, X_train_reduced, y_train_, scoring='f1_weighted', cv=5)\n",
        "score_rf_Xreduced_ = round(sum(score_rf_Xreduced)/len(score_rf_Xreduced),3)\n",
        "print(score_rf_Xreduced_)"
      ],
      "metadata": {
        "id": "Nnu38FBO_KRF",
        "colab": {
          "base_uri": "https://localhost:8080/"
        },
        "outputId": "e7e76231-f566-48f2-ae1d-e7ed348b9d2a"
      },
      "execution_count": null,
      "outputs": [
        {
          "output_type": "stream",
          "name": "stdout",
          "text": [
            "0.59\n"
          ]
        }
      ]
    },
    {
      "cell_type": "code",
      "source": [
        "# Dimension reduced model optimization\n",
        "param_grid = [\n",
        "    {'n_estimators': [20, 150],\n",
        "     'min_samples_split': [8, 16],\n",
        "     'min_samples_leaf': [8, 12],\n",
        "     'max_depth':[4, 8]}\n",
        "]\n",
        "\n",
        "optimal_params = GridSearchCV(\n",
        "                    model_rf_,  \n",
        "                    param_grid = param_grid, \n",
        "                    cv=5,\n",
        "                    n_jobs=-1,     \n",
        "                    scoring = 'f1_weighted') \n",
        "\n",
        "optimal_params.fit(X_train_reduced, y_train_)\n",
        "print(\"The optimal parameters:\", optimal_params.best_params_)\n",
        "print(\"The best score:\", round(optimal_params.best_score_,3))\n",
        "es_rf = optimal_params.best_estimator_ \n",
        "print(es_rf) "
      ],
      "metadata": {
        "colab": {
          "base_uri": "https://localhost:8080/"
        },
        "id": "bfjBCYbhXWa-",
        "outputId": "e64212ee-789c-4372-9697-76ff64fc177a"
      },
      "execution_count": null,
      "outputs": [
        {
          "output_type": "stream",
          "name": "stdout",
          "text": [
            "The optimal parameters: {'max_depth': 8, 'min_samples_leaf': 8, 'min_samples_split': 8, 'n_estimators': 20}\n",
            "The best score: 0.59\n",
            "RandomForestClassifier(max_depth=8, min_samples_leaf=8, min_samples_split=8,\n",
            "                       n_estimators=20, random_state=25212)\n"
          ]
        }
      ]
    },
    {
      "cell_type": "code",
      "source": [
        "# Feature Importance with the best model based on Random Forest\n",
        "model_rf_best = RandomForestClassifier(max_depth=8, min_samples_leaf=12, min_samples_split=8,\n",
        "                       n_estimators=20, random_state=25212)\n",
        "model_rf_best.fit(X_train_original, y_train_)\n",
        "\n",
        "importances = model_rf_best.feature_importances_\n",
        "\n",
        "n_feature = X_train_original.shape[1]\n",
        "index=np.arange(n_feature)\n",
        "plt.barh(index, importances, align='center')\n",
        "plt.show()"
      ],
      "metadata": {
        "id": "bD6uV_E29Did",
        "colab": {
          "base_uri": "https://localhost:8080/",
          "height": 265
        },
        "outputId": "4afe67db-b17f-4b94-871b-8c104a014e5a"
      },
      "execution_count": null,
      "outputs": [
        {
          "output_type": "display_data",
          "data": {
            "text/plain": [
              "<Figure size 432x288 with 1 Axes>"
            ],
            "image/png": "[encoded data removed]"
          },
          "metadata": {
            "needs_background": "light"
          }
        }
      ]
    },
    {
      "cell_type": "code",
      "source": [
        "# Refit model with top 10 selected features and check the performance\n",
        "select_idx = np.argpartition(importances, -10)[10:]\n",
        "X_train_selected = X_train_original[select_idx]\n",
        "score_rf_Xselected = cross_val_score(model_rf_best, X_train_selected, y_train_, scoring='f1_weighted', cv=5)\n",
        "score_rf_Xselected_ = round(sum(score_rf_Xreduced)/len(score_rf_Xreduced),3)\n",
        "print(score_rf_Xselected_)"
      ],
      "metadata": {
        "colab": {
          "base_uri": "https://localhost:8080/"
        },
        "id": "CmKUOZCDDJS2",
        "outputId": "f9bb7cf1-9ed8-49ce-c32c-ad7ce1913c70"
      },
      "execution_count": null,
      "outputs": [
        {
          "output_type": "stream",
          "name": "stdout",
          "text": [
            "0.59\n"
          ]
        }
      ]
    },
    {
      "cell_type": "code",
      "source": [
        "# Feature selected model optimization\n",
        "param_grid = [\n",
        "    {'n_estimators': [20, 150],\n",
        "     'min_samples_split': [8, 16],\n",
        "     'min_samples_leaf': [8, 12],\n",
        "     'max_depth':[4, 8]}\n",
        "]\n",
        "\n",
        "optimal_params = GridSearchCV(\n",
        "                    model_rf_,  \n",
        "                    param_grid = param_grid, \n",
        "                    cv=5,\n",
        "                    n_jobs=-1,     \n",
        "                    scoring = 'f1_weighted') \n",
        "\n",
        "optimal_params.fit(X_train_selected, y_train_)\n",
        "print(\"The optimal parameters:\", optimal_params.best_params_)\n",
        "print(\"The best score:\", round(optimal_params.best_score_,3))\n",
        "es_rf = optimal_params.best_estimator_ \n",
        "print(es_rf) "
      ],
      "metadata": {
        "colab": {
          "base_uri": "https://localhost:8080/"
        },
        "id": "t_cgX3tWW1gK",
        "outputId": "4b9f5b4c-0124-40c4-d59b-0caf98c06c81"
      },
      "execution_count": null,
      "outputs": [
        {
          "output_type": "stream",
          "name": "stdout",
          "text": [
            "The optimal parameters: {'max_depth': 8, 'min_samples_leaf': 8, 'min_samples_split': 8, 'n_estimators': 20}\n",
            "The best score: 0.594\n",
            "RandomForestClassifier(max_depth=8, min_samples_leaf=8, min_samples_split=8,\n",
            "                       n_estimators=20, random_state=25212)\n"
          ]
        }
      ]
    },
    {
      "cell_type": "markdown",
      "source": [
        "# 2. The estimated test performance of the best model \n",
        "\n",
        " - (a) Report the estimated test performance for the best model and provide a reason for the choice of a model\n",
        "  - **The Random Forest Algorithm model with the complete features** was selected, because its cross-validation f1 score was higher than any other models considered in 1. (a). and (b). \n",
        "  - In order to estimate the test performance of the best model, the OnlineAd_X_train and OnlineAd_Y_train were split into train and validation set (7:3).\n",
        "  - **As the estimated test performance, the f1 score (weighted-averaged) of the best model with the validation set is .551**.\n",
        "      - The difference between performance in 1.(a). (.605) and 2.(a). (.551) may be resulted from the difference between cross-validation and validation set approach. That is, the size of the train set was diminished in 2.(a). (validation set approach), and the score of the model may be decreased."
      ],
      "metadata": {
        "id": "HZOky4tClyS2"
      }
    },
    {
      "cell_type": "code",
      "source": [
        "# Split dataset\n",
        "_df = pd.concat([X_train_original, y_train_],axis=1)\n",
        "train, val = np.split(_df.sample(frac=1, random_state=25212), [int(0.7*len(_df))])\n",
        "X_train = train.iloc[:, :-1]\n",
        "y_train = train.iloc[:, -1]\n",
        "X_val = val.iloc[:, :-1]\n",
        "y_val = val.iloc[:, -1]\n",
        "print(\"X_train:\",X_train.shape)\n",
        "print(\"y_train:\",y_train.shape)\n",
        "print(\"X_val:\",X_val.shape)\n",
        "print(\"y_val:\",y_val.shape)"
      ],
      "metadata": {
        "colab": {
          "base_uri": "https://localhost:8080/"
        },
        "id": "451t3qtRCTfy",
        "outputId": "9e5f52fe-5ba6-4bac-b977-9c6763916edd"
      },
      "execution_count": null,
      "outputs": [
        {
          "output_type": "stream",
          "name": "stdout",
          "text": [
            "X_train: (1016, 251)\n",
            "y_train: (1016,)\n",
            "X_val: (436, 251)\n",
            "y_val: (436,)\n"
          ]
        }
      ]
    },
    {
      "cell_type": "code",
      "source": [
        "# Estimating the test performance with the f1 score of the validation set\n",
        "model_rf_best = RandomForestClassifier(max_depth=8, min_samples_leaf=12, min_samples_split=8,\n",
        "                       n_estimators=20, random_state=25212)\n",
        "model_rf_best.fit(X_train, y_train)\n",
        "y_hat = model_rf_best.predict(X_val)\n",
        "print(metrics.classification_report(y_true = y_val, y_pred=y_hat, digits=3))"
      ],
      "metadata": {
        "colab": {
          "base_uri": "https://localhost:8080/"
        },
        "id": "EKOsK_dKB90k",
        "outputId": "a8af6bb1-3ea1-49aa-f845-6f5170eb529b"
      },
      "execution_count": null,
      "outputs": [
        {
          "output_type": "stream",
          "name": "stdout",
          "text": [
            "              precision    recall  f1-score   support\n",
            "\n",
            "         0.0      0.631     0.871     0.732       241\n",
            "         1.0      0.179     0.083     0.114        84\n",
            "         2.0      0.672     0.387     0.491       111\n",
            "\n",
            "    accuracy                          0.596       436\n",
            "   macro avg      0.494     0.447     0.446       436\n",
            "weighted avg      0.554     0.596     0.551       436\n",
            "\n"
          ]
        }
      ]
    },
    {
      "cell_type": "markdown",
      "source": [
        " - (b) Predict on the provided test dataset, and save those predictions as a CSV filed."
      ],
      "metadata": {
        "id": "u0YvTDYrhAQR"
      }
    },
    {
      "cell_type": "code",
      "source": [
        "X_test = pd.read_csv(_path + '/' + data_list[2] + '.csv', low_memory = False, header=None)"
      ],
      "metadata": {
        "id": "zS4dAYBmhg8Q"
      },
      "execution_count": null,
      "outputs": []
    },
    {
      "cell_type": "code",
      "source": [
        "y_pred = model_rf_best.predict(X_test)\n",
        "y_pred_df = pd.DataFrame(y_pred)"
      ],
      "metadata": {
        "id": "65Li6Fe9hzrM"
      },
      "execution_count": null,
      "outputs": []
    },
    {
      "cell_type": "code",
      "source": [
        "dummy_ = pd.get_dummies(y_pred_df[0])\n",
        "dummy_.to_csv('2022-25212_pred.csv', header=False, index=False)"
      ],
      "metadata": {
        "id": "cCN7GM2og23I"
      },
      "execution_count": null,
      "outputs": []
    },
    {
      "cell_type": "markdown",
      "source": [
        "- References\n",
        "  - logistic regression for multiclass: https://scikit-learn.org/stable/modules/generated/sklearn.linear_model.LogisticRegression.html, https://m.blog.naver.com/PostView.naver?isHttpsRedirect=true&blogId=gdpresent&logNo=221716396894\n",
        "  -KNN: https://scikit-learn.org/stable/modules/generated/sklearn.neighbors.KNeighborsClassifier.html\n",
        "  - Random Forest: https://partrita.github.io/posts/random-forest-python/, https://scikit-learn.org/stable/modules/generated/sklearn.ensemble.RandomForestClassifier.html\n",
        "  - SVM: https://scikit-learn.org/stable/modules/generated/sklearn.svm.SVC.html\n",
        "  - Metrics: https://stackoverflow.com/questions/31421413/how-to-compute-precision-recall-accuracy-and-f1-score-for-the-multiclass-case\n",
        "  - Dimension Reduction: https://www.statology.org/scree-plot-python/\n",
        "  - Feature Importance: https://woolulu.tistory.com/28"
      ],
      "metadata": {
        "id": "8BTNveMr9qvG"
      }
    }
  ]
}